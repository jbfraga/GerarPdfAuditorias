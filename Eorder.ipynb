{
 "cells": [
  {
   "cell_type": "code",
   "execution_count": 1,
   "metadata": {},
   "outputs": [
    {
     "name": "stderr",
     "output_type": "stream",
     "text": [
      "C:\\Users\\bruno.fraga\\AppData\\Local\\Temp\\ipykernel_23652\\24166454.py:22: DeprecationWarning: headless property is deprecated, instead use add_argument('--headless') or add_argument('--headless=new')\n",
      "  options.headless = False\n"
     ]
    }
   ],
   "source": [
    "from selenium import webdriver\n",
    "from selenium.webdriver.chrome.service import Service\n",
    "from selenium.webdriver.common.by import By\n",
    "from selenium.webdriver.common.keys import Keys\n",
    "from selenium.webdriver.common.action_chains import ActionChains\n",
    "from selenium.webdriver.chrome.options import Options\n",
    "\n",
    "import pandas\n",
    "import pyautogui\n",
    "import time\n",
    "from PIL import Image\n",
    "\n",
    "chrome_options = Options()\n",
    "chrome_options.add_experimental_option(\"prefs\", {\n",
    "    \"download.default_directory\": rf\"C:\\Users\\bruno.fraga\\Desktop\\ADS\\Códigos Cosampa\\Gerar Pdf Auditoria\\GerarPdfAuditorias\\imagens\",\n",
    "    \"download.prompt_for_download\": False,\n",
    "    \"download.directory_upgrade\": True,\n",
    "    \"safebrowsing.enabled\": False,\n",
    "    'profile.default_content_setting_values.automatic_downloads': 1\n",
    "})\n",
    "options = webdriver.ChromeOptions()\n",
    "options.headless = False\n",
    "options.add_argument(\"--window-position=-1200,0\")\n",
    "options.add_experimental_option(\"prefs\", chrome_options._experimental_options[\"prefs\"])\n",
    "driver = webdriver.Chrome(service=Service(), options=options)"
   ]
  },
  {
   "cell_type": "code",
   "execution_count": 2,
   "metadata": {},
   "outputs": [],
   "source": [
    "\"\"\"#Login Eorder\"\"\"\n",
    "\n",
    "driver.get(\"https://eordercoe.enel.com/geocallcoe/w/LoginServlet\")\n",
    "driver.find_elements(By.ID, \"USER\")[0].send_keys(\"ENELINT\\BR0012049443\")\n",
    "driver.find_elements(By.ID, \"INPUTPASS\")[0].send_keys(\"Saca40f31f1!\")\n",
    "driver.find_elements(By.ID, \"COMPANY\")[0].send_keys(\"\")\n",
    "driver.find_elements(By.ID, \"submbtn\")[0].click()\n",
    "driver.maximize_window()\n"
   ]
  },
  {
   "cell_type": "code",
   "execution_count": 3,
   "metadata": {},
   "outputs": [],
   "source": [
    "\"\"\"Acessar Lista TDC\"\"\"\n",
    "driver.find_elements(By.CSS_SELECTOR,\"#TBB_tbm2 > div.tbi\")[4].click()\n",
    "driver.find_elements(By.CSS_SELECTOR,\"#TBB_tbm2 > div.tbi\")[0].click()"
   ]
  },
  {
   "cell_type": "code",
   "execution_count": 4,
   "metadata": {},
   "outputs": [],
   "source": [
    "\"\"\"Enviar o TDC e acessar os locais de print\"\"\"\n",
    "\n",
    "driver.find_element(By.XPATH, '//td[label/text() = \"Código TdC\"]/following-sibling::td[1]//table[1]//tr[1]//td[1]//input').send_keys(26759160)\n",
    "driver.find_element(By.XPATH, '//td[label/text() = \"Código TdC\"]/following-sibling::td[1]//table[1]//tr[1]//td[1]//input').send_keys(Keys.ENTER)\n",
    "\n",
    "time.sleep(3)\n",
    "\n",
    "driver.find_elements(By.CSS_SELECTOR,\"img[src='r/std/icons/cerca64.png'\")[3].click()\n",
    "time.sleep(2)\n",
    "\n"
   ]
  },
  {
   "cell_type": "code",
   "execution_count": 5,
   "metadata": {},
   "outputs": [],
   "source": [
    "\"\"\"Acessar a página multimida\"\"\"\n",
    "\n",
    "driver.find_elements(By.CSS_SELECTOR,\"img[src='r/std/icons/PC64.png'\")[0].click()"
   ]
  },
  {
   "cell_type": "code",
   "execution_count": 6,
   "metadata": {},
   "outputs": [],
   "source": [
    "\"\"\"Baixar as Fotos do Eorder\"\"\"\n",
    "\n",
    "\"\"\"clicar em cada linha da foto\"\"\"\n",
    "foto_Even = driver.find_elements(By.CSS_SELECTOR, \"#TV-rvRfmu > div > div > div > table > tbody > tr.tvRow.tvRoll\")\n",
    "\n",
    "# Itere sobre a lista de elementos e aplique um clique duplo em cada um\n",
    "for i in range(len(foto_Even)):\n",
    "    try:\n",
    "        # Refaça a pesquisa do elemento a cada iteração\n",
    "        elemento = driver.find_elements(By.CSS_SELECTOR, \"#TV-rvRfmu > div > div > div > table > tbody > tr.tvRow.tvRoll\")[i]\n",
    "        driver.execute_script(\"var evt = new MouseEvent('dblclick', { bubbles: true, cancelable: true, view: window }); arguments[0].dispatchEvent(evt);\", elemento)\n",
    "        time.sleep(10)\n",
    "    except Exception as e:\n",
    "        print(f\"Erro: {str(e)}\")\n",
    "time.sleep(1)\n",
    "driver.find_elements(By.CSS_SELECTOR, \"img[src='r/std/icons/chiudi64.png']\")[2].click()\n"
   ]
  },
  {
   "cell_type": "code",
   "execution_count": 5,
   "metadata": {},
   "outputs": [],
   "source": [
    "\"\"\"Clicar em Visualizar planejamento TdC\"\"\"\n",
    "\n",
    "time.sleep(3)\n",
    "driver.find_elements(By.CSS_SELECTOR,\"img[src='r/std/icons/cerca64.png'\")[0].click()\n",
    "\n",
    "elements = driver.find_elements(By.CSS_SELECTOR, \"img[src='r/std/icons/cerca64.png']\")\n",
    "if elements:\n",
    "    last_element = elements[-1]  # Acessa o último elemento da lista\n",
    "    last_element.click()"
   ]
  },
  {
   "cell_type": "code",
   "execution_count": 8,
   "metadata": {},
   "outputs": [
    {
     "name": "stderr",
     "output_type": "stream",
     "text": [
      "C:\\Users\\bruno.fraga\\AppData\\Local\\Temp\\ipykernel_15296\\494652910.py:4: DeprecationWarning: headless property is deprecated, instead use add_argument('--headless') or add_argument('--headless=new')\n",
      "  options.headless = True\n"
     ]
    }
   ],
   "source": [
    "\"\"\"Print do retorno de campo e OBS\"\"\"\n",
    "\n",
    "options = webdriver.ChromeOptions()\n",
    "options.headless = True\n",
    "options.add_argument(\"--window-position=1420,0\")\n",
    "\n",
    "driver.find_element(By.CSS_SELECTOR, \"#flowscrew\").click()\n",
    "\n",
    "time.sleep(1)\n",
    "\n",
    "screen = driver.find_elements(By.CSS_SELECTOR,\"#MTA-sfEsitoAgenda-HLCasdfa\")[0]\n",
    "\n",
    "screen.screenshot(rf\"C:\\Users\\bruno.fraga\\Desktop\\ADS\\Códigos Cosampa\\Gerar Pdf Auditoria\\GerarPdfAuditorias\\imagens\\img1.png\")\n",
    "\n",
    "time.sleep(1)\n",
    "\n",
    "text_inputss = driver.find_elements(By.TAG_NAME,'textarea')\n",
    "for text_input in text_inputss:\n",
    "    if \"NOTESERVIZIO\" in text_input.get_attribute(\"name\"):\n",
    "        text_input.screenshot(rf\"C:\\Users\\bruno.fraga\\Desktop\\ADS\\Códigos Cosampa\\Gerar Pdf Auditoria\\GerarPdfAuditorias\\imagens\\img3.png\")\n",
    "        break\n",
    "\n",
    "driver.find_element(By.CSS_SELECTOR, \"#flowscrew\").click()\n"
   ]
  },
  {
   "cell_type": "code",
   "execution_count": 9,
   "metadata": {},
   "outputs": [],
   "source": [
    "\"\"\"Print dos materiais\"\"\"\n",
    "time.sleep(3)\n",
    "driver.find_element(By.CLASS_NAME,\"icon_pullright\").click()\n",
    "\n",
    "time.sleep(3)\n",
    "\n",
    "driver.find_elements(By.CSS_SELECTOR, \"img[src='r/std/icons/articoli64.png'\")[1].click()\n",
    "\n",
    "time.sleep(1)\n",
    "\n",
    "driver.find_elements(By.CSS_SELECTOR, \"#MTT-mtListaMateriali-ncMaterialiGiorno > div:nth-child(1) > img\")[0].click()\n",
    "\n",
    "time.sleep(1)\n",
    "\n",
    "driver.find_element(By.CSS_SELECTOR, \"#flowscrew\").click()\n",
    "\n",
    "time.sleep(1)\n",
    "\n",
    "driver.execute_script('document.querySelectorAll(\"#TVSCR-tv_materialigiorno\")[0].style.height=\"100%\";')\n",
    "time.sleep(1)\n",
    "\n",
    "element = driver.find_elements(By.CSS_SELECTOR,\"#TVSCR-tv_materialigiorno > div > table\")[0]\n",
    "driver.execute_script(\"arguments[0].scrollIntoView({ behavior: 'auto', block: 'start', inline: 'start' });\", element)\n",
    "\n",
    "time.sleep(1)\n",
    "\n",
    "screen = driver.find_elements(By.CSS_SELECTOR,\"#TVSCR-tv_materialigiorno > div > table\")[0]\n",
    "screen.screenshot(rf\"C:\\Users\\bruno.fraga\\Desktop\\ADS\\Códigos Cosampa\\Gerar Pdf Auditoria\\GerarPdfAuditorias\\imagens\\img2.png\")\n",
    "\n",
    "driver.quit()\n"
   ]
  },
  {
   "cell_type": "code",
   "execution_count": 10,
   "metadata": {},
   "outputs": [
    {
     "name": "stderr",
     "output_type": "stream",
     "text": [
      "C:\\Users\\bruno.fraga\\AppData\\Local\\Temp\\ipykernel_15296\\1467988929.py:26: DeprecationWarning: ANTIALIAS is deprecated and will be removed in Pillow 10 (2023-07-01). Use LANCZOS or Resampling.LANCZOS instead.\n",
      "  image = image.resize((width, height), Image.ANTIALIAS)\n"
     ]
    }
   ],
   "source": [
    "\"\"\"Juntando as imagens em um pdf\"\"\"\n",
    "\"\"\"falta só ele dinamicamente renomear o PDF final\"\"\"\n",
    "\n",
    "from PIL import Image\n",
    "import os\n",
    "\n",
    "# Diretório onde as imagens estão localizadas\n",
    "image_dir = rf\"C:\\Users\\bruno.fraga\\Desktop\\ADS\\Códigos Cosampa\\Gerar Pdf Auditoria\\GerarPdfAuditorias\\imagens\"\n",
    "\n",
    "# Lista de arquivos de imagem no diretório\n",
    "image_files = [os.path.join(image_dir, filename) for filename in os.listdir(image_dir)]\n",
    "\n",
    "images = []\n",
    "\n",
    "for path in image_files:\n",
    "    image = Image.open(path)\n",
    "    \n",
    "    \n",
    "\n",
    "    if image.mode == 'RGBA':\n",
    "        image = image.convert(\"RGB\")  # Converter para RGB se estiver no modo RGBA\n",
    "    \n",
    "    if path.endswith(\".jpg\"):\n",
    "            # Redimensionar a imagem JPG para um tamanho específico (por exemplo, 800x600)\n",
    "            width, height = 384, 512\n",
    "            image = image.resize((width, height), Image.ANTIALIAS)\n",
    "    \n",
    "    images.append(image)\n",
    "\n",
    "pdf_path = rf\"C:\\Users\\bruno.fraga\\Desktop\\ADS\\Códigos Cosampa\\Gerar Pdf Auditoria\\GerarPdfAuditorias\\final.pdf\"\n",
    "\n",
    "# Salvar as imagens no arquivo PDF\n",
    "images[0].save(\n",
    "    pdf_path, \"PDF\", resolution=100.0, save_all=True, append_images=images[1:]\n",
    ")\n"
   ]
  },
  {
   "cell_type": "code",
   "execution_count": 11,
   "metadata": {},
   "outputs": [
    {
     "name": "stderr",
     "output_type": "stream",
     "text": [
      "C:\\Users\\bruno.fraga\\AppData\\Local\\Temp\\ipykernel_15296\\2318854261.py:36: DeprecationWarning: ANTIALIAS is deprecated and will be removed in Pillow 10 (2023-07-01). Use LANCZOS or Resampling.LANCZOS instead.\n",
      "  image = image.resize((width, height), Image.ANTIALIAS)\n"
     ]
    }
   ],
   "source": [
    "\"\"\"Arrumando o PDF\"\"\"\n",
    "\"\"\"Falta estudar um Resize das fotos para não ficarem muito grandes,\n",
    "mas já está considerando aqui a junção das fotos em uma só pagina, uma após a outra\"\"\"\n",
    "import os\n",
    "from reportlab.lib.pagesizes import A4\n",
    "from reportlab.pdfgen import canvas\n",
    "\n",
    "\n",
    "# Diretório onde as imagens estão localizadas\n",
    "image_dir = rf\"C:\\Users\\bruno.fraga\\Desktop\\ADS\\Códigos Cosampa\\Gerar Pdf Auditoria\\GerarPdfAuditorias\\imagens\"\n",
    "\n",
    "# Lista de arquivos de imagem no diretório\n",
    "image_files = [os.path.join(image_dir, filename) for filename in os.listdir(image_dir)]\n",
    "\n",
    "pdf_path = rf\"C:\\Users\\bruno.fraga\\Desktop\\ADS\\Códigos Cosampa\\Gerar Pdf Auditoria\\GerarPdfAuditorias\\final.pdf\"\n",
    "\n",
    "# Tamanho de página A4 em pontos (595.276 x 841.890)\n",
    "page_width, page_height = A4\n",
    "max_width = page_width - 40  # Margens de 20 pontos em ambos os lados\n",
    "max_height = page_height - 40\n",
    "\n",
    "c = canvas.Canvas(pdf_path, pagesize=A4)\n",
    "\n",
    "# Configurações de layout para as imagens\n",
    "x_offset = 20\n",
    "y_offset = page_height - 20  # Começar do topo da página\n",
    "new_page = True\n",
    "\n",
    "for image_path in image_files:\n",
    "    image = Image.open(image_path)\n",
    "    \n",
    "    # Redimensionar a imagem para 70% do tamanho original\n",
    "    width_percent = 50\n",
    "    width = int(image.width * (width_percent / 100))\n",
    "    height = int(image.height * (width_percent / 100))\n",
    "    image = image.resize((width, height), Image.ANTIALIAS)\n",
    "        \n",
    "    # Redimensionar a imagem para caber na página (mantendo a proporção)\n",
    "    image.thumbnail((max_width, max_height))\n",
    "    \n",
    "    # Verificar se a imagem cabe na página atual\n",
    "    if y_offset - image.height < 20:\n",
    "        # Iniciar uma nova página\n",
    "        c.showPage()\n",
    "        y_offset = page_height - 20  # Começar do topo da nova página\n",
    "        new_page = True\n",
    "    \n",
    "    if new_page:\n",
    "        new_page = False\n",
    "    else:\n",
    "        # Adicionar um espaço vertical entre as imagens\n",
    "        y_offset -= 10\n",
    "    \n",
    "    # Desenhar a imagem na página\n",
    "    c.drawImage(image_path, x_offset, y_offset - image.height, width=image.width, height=image.height)\n",
    "    \n",
    "    # Atualizar a posição para a próxima imagem\n",
    "    y_offset -= image.height\n",
    "\n",
    "c.save()"
   ]
  },
  {
   "cell_type": "code",
   "execution_count": 12,
   "metadata": {},
   "outputs": [],
   "source": [
    "\"\"\"Excluindo as fotos da pasta\"\"\"\n",
    "\n",
    "dir = rf'C:\\Users\\bruno.fraga\\Desktop\\ADS\\Códigos Cosampa\\Gerar Pdf Auditoria\\GerarPdfAuditorias\\imagens'\n",
    "for file in os.scandir(dir):\n",
    "    os.remove(file.path)"
   ]
  },
  {
   "cell_type": "code",
   "execution_count": null,
   "metadata": {},
   "outputs": [],
   "source": [
    "\n"
   ]
  },
  {
   "cell_type": "code",
   "execution_count": null,
   "metadata": {},
   "outputs": [],
   "source": []
  }
 ],
 "metadata": {
  "kernelspec": {
   "display_name": "Python 3",
   "language": "python",
   "name": "python3"
  },
  "language_info": {
   "codemirror_mode": {
    "name": "ipython",
    "version": 3
   },
   "file_extension": ".py",
   "mimetype": "text/x-python",
   "name": "python",
   "nbconvert_exporter": "python",
   "pygments_lexer": "ipython3",
   "version": "3.10.11"
  },
  "orig_nbformat": 4
 },
 "nbformat": 4,
 "nbformat_minor": 2
}
